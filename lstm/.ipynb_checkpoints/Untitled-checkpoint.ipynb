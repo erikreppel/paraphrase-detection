{
 "cells": [
  {
   "cell_type": "code",
   "execution_count": 1,
   "metadata": {},
   "outputs": [
    {
     "name": "stderr",
     "output_type": "stream",
     "text": [
      "Using TensorFlow backend.\n"
     ]
    }
   ],
   "source": [
    "from time import time\n",
    "import os\n",
    "\n",
    "import pandas as pd\n",
    "from gensim.models.keyedvectors import KeyedVectors\n",
    "\n",
    "import torch\n",
    "import torch.nn as nn\n",
    "import torch.optim as optim\n",
    "from torch.autograd import Variable\n",
    "\n",
    "from preprocess import prep_sentence_couples\n",
    "# from model import SiameseLSTM\n",
    "\n",
    "\n",
    "# Variables ###################################################################\n",
    "checkpoint_path = '/home/erik/Desktop/sia_checkpoints'\n",
    "lr = 20"
   ]
  },
  {
   "cell_type": "code",
   "execution_count": null,
   "metadata": {},
   "outputs": [],
   "source": []
  },
  {
   "cell_type": "code",
   "execution_count": 3,
   "metadata": {},
   "outputs": [
    {
     "name": "stdout",
     "output_type": "stream",
     "text": [
      "Pre-processing data\n"
     ]
    }
   ],
   "source": [
    "# Pre-process data ############################################################\n",
    "print('Pre-processing data')\n",
    "word_vectors = KeyedVectors.load_word2vec_format(\n",
    "    '~/datasets/GoogleNews-vectors-negative300.bin',\n",
    "    binary=True)\n",
    "\n",
    "train = pd.read_csv('../small_data/train.csv')\n",
    "test = pd.read_csv('../small_data/test.csv')\n",
    "\n",
    "X_train1, X_train2 = prep_sentence_couples(train['str1'],\n",
    "                                           train['str2'],\n",
    "                                           word_vectors)\n",
    "X_test1, X_test2 = prep_sentence_couples(test['str1'],\n",
    "                                         test['str2'],\n",
    "                                         word_vectors)\n",
    "\n",
    "y_train = train['paraphrase'].values\n",
    "y_test = test['paraphrase'].values\n",
    "\n",
    "# pytorch-ify the vectors######################################################\n",
    "X_train1 = torch.from_numpy(X_train1).float()\n",
    "X_train2 = torch.from_numpy(X_train2).float()\n",
    "\n",
    "X_test1 = torch.from_numpy(X_test1).float()\n",
    "X_test2 = torch.from_numpy(X_test2).float()\n",
    "\n",
    "y_train = torch.from_numpy(y_train).float()\n",
    "y_test = torch.from_numpy(y_test).float()"
   ]
  },
  {
   "cell_type": "code",
   "execution_count": 4,
   "metadata": {},
   "outputs": [
    {
     "ename": "NameError",
     "evalue": "name 'SiameseLSTM' is not defined",
     "output_type": "error",
     "traceback": [
      "\u001b[0;31m---------------------------------------------------------------------------\u001b[0m",
      "\u001b[0;31mNameError\u001b[0m                                 Traceback (most recent call last)",
      "\u001b[0;32m<ipython-input-4-db8de6e44f96>\u001b[0m in \u001b[0;36m<module>\u001b[0;34m()\u001b[0m\n\u001b[0;32m----> 1\u001b[0;31m \u001b[0mmodel\u001b[0m \u001b[0;34m=\u001b[0m \u001b[0mSiameseLSTM\u001b[0m\u001b[0;34m(\u001b[0m\u001b[0;36m300\u001b[0m\u001b[0;34m)\u001b[0m\u001b[0;34m\u001b[0m\u001b[0m\n\u001b[0m\u001b[1;32m      2\u001b[0m \u001b[0moptimizer\u001b[0m \u001b[0;34m=\u001b[0m \u001b[0moptim\u001b[0m\u001b[0;34m.\u001b[0m\u001b[0mAdam\u001b[0m\u001b[0;34m(\u001b[0m\u001b[0mmodel\u001b[0m\u001b[0;34m.\u001b[0m\u001b[0mparameters\u001b[0m\u001b[0;34m(\u001b[0m\u001b[0;34m)\u001b[0m\u001b[0;34m)\u001b[0m\u001b[0;34m\u001b[0m\u001b[0m\n\u001b[1;32m      3\u001b[0m \u001b[0mcriterion\u001b[0m \u001b[0;34m=\u001b[0m \u001b[0mnn\u001b[0m\u001b[0;34m.\u001b[0m\u001b[0mL1Loss\u001b[0m\u001b[0;34m(\u001b[0m\u001b[0;34m)\u001b[0m\u001b[0;34m\u001b[0m\u001b[0m\n",
      "\u001b[0;31mNameError\u001b[0m: name 'SiameseLSTM' is not defined"
     ]
    }
   ],
   "source": [
    "model = SiameseLSTM(300)\n",
    "optimizer = optim.Adam(model.parameters())\n",
    "criterion = nn.L1Loss()"
   ]
  },
  {
   "cell_type": "code",
   "execution_count": 79,
   "metadata": {
    "collapsed": true
   },
   "outputs": [],
   "source": [
    "def get_batch(x1, x2, y, i, batch_size, evaluate=False):\n",
    "    batch_size = min(batch_size, len(y) - 1 - i)\n",
    "    x1i = Variable(x1[i:i+batch_size], volatile=evaluate)\n",
    "    x2i = Variable(x2[i:i+batch_size], volatile=evaluate)\n",
    "    yi = Variable(y[i:i+batch_size])\n",
    "    return (x1i, x2i), yi"
   ]
  },
  {
   "cell_type": "code",
   "execution_count": 80,
   "metadata": {
    "collapsed": true
   },
   "outputs": [],
   "source": [
    "# Train the model #############################################################\n",
    "def train_epoch(epoch, batch_size, x1, x2, y):\n",
    "    start_time = time()\n",
    "    total_loss = 0\n",
    "\n",
    "    model.train()\n",
    "\n",
    "    n_items = len(y)\n",
    "\n",
    "    for n, i in enumerate(range(0, y.size(0)-1, batch_size)):\n",
    "        model.zero_grad()\n",
    "        h0, h1 = model.init_hidden()\n",
    "#         print(h0, h1)\n",
    "        (x1i, x2i), yi = get_batch(x1, x2, y, i, batch_size)\n",
    "        print(x1i, x2i)\n",
    "        # calculate error and backprop\n",
    "        output, h0, h1 = model(x1i, x2i, h0, h1)\n",
    "        \n",
    "        loss = criterion(output, yi)\n",
    "        \n",
    "        loss.backward()\n",
    "        optimizer.step()\n",
    "\n",
    "        # helps combat vanishing gradients\n",
    "        nn.utils.clip_grad_norm(model.parameters(), 0.25)\n",
    "        for p in model.parameters():\n",
    "            p.data.add_(-lr, p.grad.data)\n",
    "\n",
    "        # track metrics\n",
    "        total_loss += loss.data\n",
    "\n",
    "    avg_loss = float(total_loss) / n_items\n",
    "\n",
    "    time_taken = time() - start_time\n",
    "    print('{}| time taken: {} total loss: {} avg loss: {}'.format(time_taken,\n",
    "                                                                  total_loss,\n",
    "                                                                  avg_loss))\n",
    "\n",
    "\n",
    "def evaluate(x1, x2, y):\n",
    "    model.eval()\n",
    "    total_loss = 0\n",
    "    for i, (x1i, x2i, yi) in enumerate(zip(x1, x2, y)):\n",
    "        output, h0, h1 = model(x1i, x2i)\n",
    "        total_loss += len(y) * criterion(output, yi).data\n",
    "\n",
    "    return total_loss / float(len(y))\n",
    "\n",
    "\n",
    "def checkpoint(epoch, model):\n",
    "    with open(\n",
    "        os.path.join(checkpoint_path, 'siamese_lstm_epoch{}.pt'.format(epoch)),\n",
    "        'wb'\n",
    "    ) as f:\n",
    "        torch.save(model, f)\n"
   ]
  },
  {
   "cell_type": "code",
   "execution_count": null,
   "metadata": {},
   "outputs": [],
   "source": [
    "try:\n",
    "    for epoch in range(1, 1000):\n",
    "        train_epoch(epoch, 32, X_train1, X_train2, y_train)\n",
    "\n",
    "        eval_loss = evaluate(X_test1, X_test2, y_test)\n",
    "        print('epoch {} eval loss: {:.6f}'.format(epoch, eval_loss))\n",
    "\n",
    "        if not best_val_loss or best_val_loss > eval_loss:\n",
    "            best_val_loss = eval_loss\n",
    "        else:\n",
    "            lr /= 4.0\n",
    "\n",
    "        if epoch % 5 == 0:\n",
    "            checkpoint(epoch, model)\n",
    "\n",
    "\n",
    "except KeyboardInterrupt:\n",
    "    print('Keyboard interupt received, saving model and finishing')\n",
    "    checkpoint('exit', model)"
   ]
  },
  {
   "cell_type": "code",
   "execution_count": 30,
   "metadata": {
    "collapsed": true
   },
   "outputs": [],
   "source": [
    "def cosine_similarity(x1, x2, dim=0, eps=1e-8):\n",
    "    w12 = torch.sum(x1 * x2, dim)\n",
    "    w1 = torch.norm(x1, 2, dim)\n",
    "    w2 = torch.norm(x2, 2, dim)\n",
    "    return (w12 / (w1 * w2).clamp(min=eps)).squeeze()\n",
    "\n",
    "\n",
    "class SiameseLSTM(nn.Module):\n",
    "    def __init__(self, input_size=300, hidden_size=100, num_layers=2, batch_size=32, dropout=0.3):\n",
    "        super(SiameseLSTM, self).__init__()\n",
    "        self.input_size = input_size\n",
    "        self.hidden_size = hidden_size\n",
    "        self.num_layers = num_layers\n",
    "        self.batch_size = batch_size\n",
    "\n",
    "        # will need this later\n",
    "        # self.dropout = nn.Dropout(0.3)\n",
    "\n",
    "        # LSTM stuff\n",
    "        self.rnn0 = nn.LSTM(input_size, hidden_size, num_layers)\n",
    "        self.rnn1 = nn.LSTM(input_size, hidden_size, num_layers)\n",
    "\n",
    "        # Linear layers so shapes play nice\n",
    "        # self.l0 = nn.Linear(200, 100)\n",
    "        # self.l1 = nn.Linear(200, 100)\n",
    "\n",
    "    def forward(self, x0, x1, h0, h1):\n",
    "        x0, h0 = self.rnn0(x0, h0)\n",
    "        x1, h1 = self.rnn1(x1, h1)\n",
    "\n",
    "        # x0 = self.l0(x0.view(-1, 200))\n",
    "        # x1 = self.l1(x1.view(-1, 200))\n",
    "\n",
    "#         d = cosine_similarity(x0.view(1, 32, -1), x1.view(1, 32, -1))\n",
    "        return x0, h0, h1\n",
    "\n",
    "    \n",
    "    def init_hidden(self):\n",
    "        return Variable(torch.zeros((self.num_layers, self.batch_size, self.hidden_size))), Variable(torch.zeros((self.num_layers, self.batch_size, self.hidden_size)))"
   ]
  },
  {
   "cell_type": "code",
   "execution_count": 58,
   "metadata": {
    "collapsed": true
   },
   "outputs": [],
   "source": [
    "def cosine_similarity(x1, x2, dim=2, eps=1e-8):\n",
    "    w12 = torch.sum(x1 * x2, dim)\n",
    "    w1 = torch.norm(x1, 2, dim)\n",
    "    w2 = torch.norm(x2, 2, dim)\n",
    "    return (w12 / (w1 * w2).clamp(min=eps)).squeeze()\n",
    "\n",
    "class RNN(nn.Module):\n",
    "    def __init__(self, input_size=300, hidden_size=200, num_layers=3, output_size=1,\n",
    "                 batch_size=10):\n",
    "        super(RNN, self).__init__()\n",
    "        self.input_size = input_size\n",
    "        self.hidden_size = hidden_size\n",
    "        self.num_layers = num_layers\n",
    "        self.output_size = output_size\n",
    "        self.batch_size = batch_size\n",
    "\n",
    "        self.rnn1 = nn.RNN(input_size=self.input_size, hidden_size=self.hidden_size,\n",
    "                          num_layers=self.num_layers, batch_first=True)\n",
    "\n",
    "        self.rnn2 = nn.RNN(input_size=self.input_size, hidden_size=self.hidden_size,\n",
    "                  num_layers=self.num_layers, batch_first=True)\n",
    "        # The last layer is applied on the last output only of the RNN (not like\n",
    "        # TimeDistributedDense in Keras)\n",
    "        self.linear_layer1 = nn.Linear(self.hidden_size, self.output_size)\n",
    "        self.linear_layer2 = nn.Linear(self.hidden_size, self.output_size)\n",
    "\n",
    "    def forward(self, x1, x2, h1, h2):\n",
    "        out1, h1 = self.rnn1(x1, h2)\n",
    "        out2, h2 = self.rnn1(x1, h2)\n",
    "        \n",
    "        in_linear1 = out1[:, -1, :]\n",
    "        in_linear2 = out2[:, -1, :]\n",
    "        final_output1 = self.linear_layer1(in_linear1)\n",
    "        final_output2 = self.linear_layer2(in_linear2)\n",
    "        \n",
    "#         print('fwd:,', final_output1.size(), final_output2.size())\n",
    "        \n",
    "        dist = cosine_similarity(final_output1, final_output2)\n",
    "        return dist, h1, h2\n",
    "\n",
    "    def init_hidden(self):\n",
    "        return Variable(torch.zeros((self.num_layers, self.batch_size, self.hidden_size))).cuda(), Variable(torch.zeros((self.num_layers, self.batch_size, self.hidden_size))).cuda()\n"
   ]
  },
  {
   "cell_type": "code",
   "execution_count": 60,
   "metadata": {},
   "outputs": [
    {
     "data": {
      "text/plain": [
       "\n",
       " 0.8452\n",
       " 1.0000\n",
       "[torch.FloatTensor of size 2]"
      ]
     },
     "execution_count": 60,
     "metadata": {},
     "output_type": "execute_result"
    }
   ],
   "source": [
    "def cosine_similarity(x1, x2, dim=1, eps=1e-8):\n",
    "    w12 = torch.sum(x1 * x2, dim)\n",
    "    w1 = torch.norm(x1, 2, dim)\n",
    "    w2 = torch.norm(x2, 2, dim)\n",
    "    return (w12 / (w1 * w2).clamp(min=eps)).squeeze()\n",
    "\n",
    "cosine_similarity(torch.Tensor([[1,2,3],[1,2,3,]]), torch.Tensor([[1,0,3],[1,2,3,]]))"
   ]
  },
  {
   "cell_type": "code",
   "execution_count": 150,
   "metadata": {},
   "outputs": [],
   "source": [
    "def train(X1, X2, y):\n",
    "    rnn.train()\n",
    "    total_loss = 0\n",
    "    for batch, i in enumerate(range(0, y.size(0) - 1, batch_size)):\n",
    "        h1, h2 = rnn.init_hidden()\n",
    "        if (len(X1) - i) < batch_size:\n",
    "            continue\n",
    "        x1i, x2i, targets = get_batch(X1, X2, y, i)\n",
    "\n",
    "        output, h1, h2 = rnn(x1i, x2i, h1, h2)\n",
    "\n",
    "        optimizer.zero_grad()\n",
    "        loss = loss_fn(output, targets)\n",
    "        loss.backward()\n",
    "        optimizer.step()\n",
    "        \n",
    "        total_loss += loss.data[0]\n",
    "\n",
    "    return total_loss\n",
    "\n",
    "def calc_accuracy(y, y_hat):\n",
    "    y, y_hat = y.numpy(), y_hat.numpy()\n",
    "    correct = 0\n",
    "    dif = y - y_hat\n",
    "    wrong = 0.0\n",
    "    for d in dif:\n",
    "        print('d is 0', d, d==0)\n",
    "        if d == 0:\n",
    "            print('this should be not 0', d[0])\n",
    "            wrong += 1\n",
    "        else:\n",
    "            print('Was not correct! ', d[0])\n",
    "    print('# wrong:', wrong)\n",
    "#     print()\n",
    "#     acc = float(correct) / len(y_hat)\n",
    "#     print(len(y_hat), correct, acc)\n",
    "    return acc\n",
    "        \n",
    "\n",
    "def evaluate(X1, X2, y):\n",
    "    rnn.eval()\n",
    "    total_loss = 0.0\n",
    "    batches_ran = 0.0\n",
    "    total_acc = 0.0\n",
    "    for batch, i in enumerate(range(0, y.size(0) - 1, batch_size)):\n",
    "        h1, h2 = rnn.init_hidden()\n",
    "        if (len(X1) - i) < batch_size:\n",
    "            continue\n",
    "        x1i, x2i, targets = get_batch(X1, X2, y, i, evaluation=True)\n",
    "\n",
    "        output, h1, h2 = rnn(x1i, x2i, h1, h2)\n",
    "\n",
    "        total_loss += len(y) * loss_fn(output, targets).data\n",
    "        acc = calc_accuracy(targets, output)\n",
    "        print(acc)\n",
    "        total_acc += acc\n",
    "        batches_ran += 1\n",
    "\n",
    "    return {'avg_loss': total_loss / batches_ran, 'avg_acc': total_acc / batches_ran}\n",
    "\n",
    "\n",
    "def get_batch(X1, X2, y, i, evaluation=False):\n",
    "    global batch_size\n",
    "    batch_size = min(batch_size, len(y) - 1 - i)\n",
    "    xi1 = Variable(X1[i:i+batch_size], volatile=evaluation)\n",
    "    xi2 = Variable(X2[i:i+batch_size], volatile=evaluation)\n",
    "    yi = Variable(y[i:i+batch_size])\n",
    "\n",
    "    return xi1, xi2, yi"
   ]
  },
  {
   "cell_type": "code",
   "execution_count": 131,
   "metadata": {},
   "outputs": [
    {
     "name": "stdout",
     "output_type": "stream",
     "text": [
      "ok\n"
     ]
    }
   ],
   "source": [
    "if torch.Tensor([0]).eq(0)[0]:\n",
    "    print('ok')"
   ]
  },
  {
   "cell_type": "code",
   "execution_count": 151,
   "metadata": {},
   "outputs": [
    {
     "name": "stdout",
     "output_type": "stream",
     "text": [
      "starting\n",
      "Epoch 0 -- train loss = 384.15624713897705\n"
     ]
    },
    {
     "ename": "TypeError",
     "evalue": "calc_accuracy() takes 2 positional arguments but 3 were given",
     "output_type": "error",
     "traceback": [
      "\u001b[0;31m---------------------------------------------------------------------------\u001b[0m",
      "\u001b[0;31mTypeError\u001b[0m                                 Traceback (most recent call last)",
      "\u001b[0;32m<ipython-input-151-b3d1d77c73b7>\u001b[0m in \u001b[0;36m<module>\u001b[0;34m()\u001b[0m\n\u001b[1;32m     23\u001b[0m     \u001b[0mprint\u001b[0m\u001b[0;34m(\u001b[0m\u001b[0;34m\"Epoch {} -- train loss = {}\"\u001b[0m\u001b[0;34m.\u001b[0m\u001b[0mformat\u001b[0m\u001b[0;34m(\u001b[0m\u001b[0mepoch\u001b[0m\u001b[0;34m,\u001b[0m \u001b[0mtrain_loss\u001b[0m\u001b[0;34m)\u001b[0m\u001b[0;34m)\u001b[0m\u001b[0;34m\u001b[0m\u001b[0m\n\u001b[1;32m     24\u001b[0m \u001b[0;34m\u001b[0m\u001b[0m\n\u001b[0;32m---> 25\u001b[0;31m     \u001b[0meval_results\u001b[0m \u001b[0;34m=\u001b[0m \u001b[0mcalc_accuracy\u001b[0m\u001b[0;34m(\u001b[0m\u001b[0mX_test1\u001b[0m\u001b[0;34m,\u001b[0m \u001b[0mX_test2\u001b[0m\u001b[0;34m,\u001b[0m \u001b[0my_test\u001b[0m\u001b[0;34m)\u001b[0m\u001b[0;34m\u001b[0m\u001b[0m\n\u001b[0m\u001b[1;32m     26\u001b[0m     \u001b[0mprint\u001b[0m\u001b[0;34m(\u001b[0m\u001b[0meval_results\u001b[0m\u001b[0;34m)\u001b[0m\u001b[0;34m\u001b[0m\u001b[0m\n\u001b[1;32m     27\u001b[0m     \u001b[0mprint\u001b[0m\u001b[0;34m(\u001b[0m\u001b[0;34m\"-\"\u001b[0m\u001b[0;34m*\u001b[0m\u001b[0;36m100\u001b[0m\u001b[0;34m)\u001b[0m\u001b[0;34m\u001b[0m\u001b[0m\n",
      "\u001b[0;31mTypeError\u001b[0m: calc_accuracy() takes 2 positional arguments but 3 were given"
     ]
    }
   ],
   "source": [
    "batch_size = 32\n",
    "\n",
    "USE_CUDA = True\n",
    "\n",
    "rnn = RNN(input_size=300, hidden_size=200, num_layers=3, batch_size=32).cuda()\n",
    "\n",
    "if USE_CUDA:\n",
    "    X_train1 = X_train1.cuda()\n",
    "    X_train2 = X_train2.cuda()\n",
    "    y_train = y_train.cuda()\n",
    "    X_test1 = X_test1.cuda()\n",
    "    X_test2 = X_test2.cuda()\n",
    "    y_test = y_test.cuda()\n",
    "    \n",
    "    rnn.cuda()\n",
    "\n",
    "loss_fn = nn.MSELoss()\n",
    "optimizer = optim.RMSprop(rnn.parameters())\n",
    "print('starting')\n",
    "\n",
    "for epoch in range(20):\n",
    "    train_loss = train(X_train1, X_train2, y_train)\n",
    "    print(\"Epoch {} -- train loss = {}\".format(epoch, train_loss))\n",
    "    \n",
    "    eval_results = evaluate(X_test1, X_test2, y_test)\n",
    "    print(eval_results)\n",
    "    print(\"-\"*100)"
   ]
  }
 ],
 "metadata": {
  "kernelspec": {
   "display_name": "Python 3",
   "language": "python",
   "name": "python3"
  },
  "language_info": {
   "codemirror_mode": {
    "name": "ipython",
    "version": 3
   },
   "file_extension": ".py",
   "mimetype": "text/x-python",
   "name": "python",
   "nbconvert_exporter": "python",
   "pygments_lexer": "ipython3",
   "version": "3.6.1"
  }
 },
 "nbformat": 4,
 "nbformat_minor": 2
}
