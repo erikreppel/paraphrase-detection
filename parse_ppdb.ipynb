{
 "cells": [
  {
   "cell_type": "code",
   "execution_count": 22,
   "metadata": {
    "collapsed": true
   },
   "outputs": [],
   "source": [
    "import json\n",
    "from os import path\n",
    "data_path = '/Users/erikreppel/datasets/'\n",
    "ppdb_path = path.join(data_path, 'ppdb-1.0-s-phrasal')"
   ]
  },
  {
   "cell_type": "code",
   "execution_count": 26,
   "metadata": {
    "collapsed": false
   },
   "outputs": [],
   "source": [
    "def parse_dict(tokens):\n",
    "    row = {\n",
    "        'LHS': tokens[0],\n",
    "        'source': tokens[1],\n",
    "        'target': tokens[2],\n",
    "        'alignment': tokens[-1]\n",
    "    }\n",
    "    string = tokens[3]\n",
    "    pairs = string.split(' ')\n",
    "    for pair in pairs:\n",
    "        x = pair.split('=')\n",
    "        row[x[0]] = float(x[1])\n",
    "    \n",
    "    return row"
   ]
  },
  {
   "cell_type": "code",
   "execution_count": 27,
   "metadata": {
    "collapsed": false
   },
   "outputs": [],
   "source": [
    "with open(ppdb_path, 'r') as f:\n",
    "    data = []\n",
    "    for line in f:\n",
    "        tokens = map(lambda x: x.strip(), line.split(\"|||\"))\n",
    "        data.append(parse_dict(tokens))\n",
    "        # should do some sort of clever file append so we don't have to keep full data set (~500Gb) in mem\n",
    "\n",
    "out_path = path.join(data_path, 'ppdb_phrase_small.json')\n",
    "with open(out_path, 'w') as f:\n",
    "    json.dump(data, f)"
   ]
  },
  {
   "cell_type": "code",
   "execution_count": 31,
   "metadata": {
    "collapsed": false
   },
   "outputs": [
    {
     "data": {
      "text/plain": [
       "u'/Users/erikreppel/Dropbox/school/CSC485/project'"
      ]
     },
     "execution_count": 31,
     "metadata": {},
     "output_type": "execute_result"
    }
   ],
   "source": [
    "%pwd"
   ]
  }
 ],
 "metadata": {
  "kernelspec": {
   "display_name": "Python 2",
   "language": "python",
   "name": "python2"
  },
  "language_info": {
   "codemirror_mode": {
    "name": "ipython",
    "version": 2
   },
   "file_extension": ".py",
   "mimetype": "text/x-python",
   "name": "python",
   "nbconvert_exporter": "python",
   "pygments_lexer": "ipython2",
   "version": "2.7.13"
  }
 },
 "nbformat": 4,
 "nbformat_minor": 2
}
