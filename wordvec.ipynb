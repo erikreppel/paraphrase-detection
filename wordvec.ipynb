{
 "cells": [
  {
   "cell_type": "code",
   "execution_count": 1,
   "metadata": {
    "collapsed": true
   },
   "outputs": [],
   "source": [
    "import gensim"
   ]
  },
  {
   "cell_type": "code",
   "execution_count": 2,
   "metadata": {
    "collapsed": true
   },
   "outputs": [],
   "source": [
    "sentences = [['the', 'boy','ran','fast'],['the', 'boy','quickly','ran']]"
   ]
  },
  {
   "cell_type": "code",
   "execution_count": 3,
   "metadata": {
    "collapsed": true
   },
   "outputs": [],
   "source": [
    "model = gensim.models.Word2Vec(sentences, min_count=1)"
   ]
  },
  {
   "cell_type": "code",
   "execution_count": 1,
   "metadata": {
    "collapsed": true
   },
   "outputs": [],
   "source": [
    "import pandas as pd"
   ]
  },
  {
   "cell_type": "code",
   "execution_count": 2,
   "metadata": {
    "collapsed": true
   },
   "outputs": [],
   "source": [
    "train = pd.read_csv('./small_data/train.csv')\n",
    "test = pd.read_csv('./small_data/test.csv')"
   ]
  },
  {
   "cell_type": "code",
   "execution_count": 39,
   "metadata": {},
   "outputs": [
    {
     "data": {
      "text/plain": [
       "4076"
      ]
     },
     "execution_count": 39,
     "metadata": {},
     "output_type": "execute_result"
    }
   ],
   "source": [
    "len(train)"
   ]
  },
  {
   "cell_type": "code",
   "execution_count": 30,
   "metadata": {
    "collapsed": true
   },
   "outputs": [],
   "source": [
    "all_sentences = None\n",
    "all_sentences = train['str1'].append(train['str2'])"
   ]
  },
  {
   "cell_type": "code",
   "execution_count": 47,
   "metadata": {
    "collapsed": true
   },
   "outputs": [],
   "source": [
    "x = train['str1'].append(train['str2']).append(test['str1']).append(test['str2'])"
   ]
  },
  {
   "cell_type": "code",
   "execution_count": 49,
   "metadata": {
    "collapsed": true
   },
   "outputs": [],
   "source": [
    "sentences = list(x)"
   ]
  },
  {
   "cell_type": "code",
   "execution_count": 5,
   "metadata": {
    "collapsed": true
   },
   "outputs": [],
   "source": [
    "from nltk import tokenize"
   ]
  },
  {
   "cell_type": "code",
   "execution_count": 75,
   "metadata": {
    "collapsed": true
   },
   "outputs": [],
   "source": [
    "sentences = [tokenize.word_tokenize(s) for s in sentences]"
   ]
  },
  {
   "cell_type": "code",
   "execution_count": 79,
   "metadata": {},
   "outputs": [
    {
     "data": {
      "text/plain": [
       "['The',\n",
       " 'group',\n",
       " 'will',\n",
       " 'be',\n",
       " 'headed',\n",
       " 'by',\n",
       " 'State',\n",
       " 'Department',\n",
       " 'official',\n",
       " 'John',\n",
       " 'S.',\n",
       " 'Wolf',\n",
       " ',',\n",
       " 'who',\n",
       " 'has',\n",
       " 'served',\n",
       " 'in',\n",
       " 'Australia',\n",
       " ',',\n",
       " 'Vietnam',\n",
       " ',',\n",
       " 'Greece',\n",
       " 'and',\n",
       " 'Pakistan',\n",
       " '.']"
      ]
     },
     "execution_count": 79,
     "metadata": {},
     "output_type": "execute_result"
    }
   ],
   "source": [
    "sentences[45]"
   ]
  },
  {
   "cell_type": "code",
   "execution_count": 86,
   "metadata": {
    "collapsed": true
   },
   "outputs": [],
   "source": [
    "model = gensim.models.Word2Vec(sentences, size=100, window=5, min_count=5, workers=4)"
   ]
  },
  {
   "cell_type": "code",
   "execution_count": 94,
   "metadata": {},
   "outputs": [
    {
     "data": {
      "text/plain": [
       "[('groups', 0.9991324543952942),\n",
       " ('programs', 0.9990755319595337),\n",
       " ('sexual', 0.9990417957305908),\n",
       " ('significant', 0.9990212917327881),\n",
       " ('Moore', 0.9990087151527405),\n",
       " ('energy', 0.9989362955093384),\n",
       " ('approval', 0.9989326000213623),\n",
       " ('rules', 0.9989189505577087),\n",
       " ('guilty', 0.9988999962806702),\n",
       " ('Davis', 0.9988961219787598)]"
      ]
     },
     "execution_count": 94,
     "metadata": {},
     "output_type": "execute_result"
    }
   ],
   "source": [
    "model.most_similar()"
   ]
  },
  {
   "cell_type": "code",
   "execution_count": 3,
   "metadata": {
    "collapsed": true
   },
   "outputs": [],
   "source": [
    "# loads pre-trained word2vec (download data from https://code.google.com/archive/p/word2vec/)\n",
    "from gensim.models.keyedvectors import KeyedVectors\n",
    "word_vectors = KeyedVectors.load_word2vec_format('/home/erik/datasets/GoogleNews-vectors-negative300.bin', binary=True, )"
   ]
  },
  {
   "cell_type": "code",
   "execution_count": 7,
   "metadata": {
    "collapsed": true
   },
   "outputs": [],
   "source": [
    "results = word_vectors.most_similar(positive=['cat', 'tiger', 'tigers'])"
   ]
  },
  {
   "cell_type": "code",
   "execution_count": 164,
   "metadata": {},
   "outputs": [
    {
     "data": {
      "text/plain": [
       "dict"
      ]
     },
     "execution_count": 164,
     "metadata": {},
     "output_type": "execute_result"
    }
   ],
   "source": [
    "r2 = word_vectors.vocab\n",
    "type(r2)"
   ]
  },
  {
   "cell_type": "code",
   "execution_count": 42,
   "metadata": {
    "collapsed": true
   },
   "outputs": [],
   "source": [
    "r2 = word_vectors.vocab\n",
    "import random\n",
    "\n",
    "keys = list(r2.keys())\n",
    "random.shuffle(keys)\n",
    "sample_of_words = [(k,0) for k in keys[:1000]]"
   ]
  },
  {
   "cell_type": "code",
   "execution_count": 55,
   "metadata": {
    "collapsed": true
   },
   "outputs": [],
   "source": [
    "results = results + sample_of_words"
   ]
  },
  {
   "cell_type": "code",
   "execution_count": 3,
   "metadata": {
    "collapsed": true
   },
   "outputs": [],
   "source": [
    "from sklearn.manifold import TSNE"
   ]
  },
  {
   "cell_type": "code",
   "execution_count": 50,
   "metadata": {
    "collapsed": true
   },
   "outputs": [],
   "source": [
    "t = TSNE(perplexity=50., n_iter=10000)"
   ]
  },
  {
   "cell_type": "code",
   "execution_count": 56,
   "metadata": {
    "collapsed": true
   },
   "outputs": [],
   "source": [
    "v = [word_vectors[x[0]] for x in results]"
   ]
  },
  {
   "cell_type": "code",
   "execution_count": 57,
   "metadata": {
    "collapsed": true
   },
   "outputs": [],
   "source": [
    "points = t.fit_transform(v)"
   ]
  },
  {
   "cell_type": "code",
   "execution_count": 15,
   "metadata": {
    "collapsed": true
   },
   "outputs": [],
   "source": [
    "import matplotlib.pyplot as plt\n",
    "%matplotlib inline"
   ]
  },
  {
   "cell_type": "code",
   "execution_count": 52,
   "metadata": {
    "collapsed": true
   },
   "outputs": [],
   "source": [
    "p1 = points[:10]\n",
    "p2 = points[10:]\n",
    "xs1 = [r[0] for r in p1]\n",
    "ys1 = [r[1] for r in p1]\n",
    "xs2 = [r[0] for r in p2]\n",
    "ys2 = [r[1] for r in p2]"
   ]
  },
  {
   "cell_type": "code",
   "execution_count": 58,
   "metadata": {},
   "outputs": [
    {
     "name": "stdout",
     "output_type": "stream",
     "text": [
      "[(u'programmers', 0.5675976276397705), (u'Programmer', 0.5239194631576538), (u'coder', 0.5199723839759827), (u'computer_programmer', 0.5073486566543579), (u'graphic_designer', 0.47666358947753906), (u'programer', 0.463584840297699), (u'designer', 0.4621824622154236), (u'coders', 0.45871683955192566), (u'librarian', 0.4511215388774872), (u'technologist', 0.43002596497535706)] \n",
      "\n",
      "[(u'Adrea', 0), (u'outboard_engine', 0), (u'King_Birendra_Gyanendra', 0), (u'trizzo@kcstar.com', 0), (u'Equitable_Sharing', 0), (u'Ishares', 0), (u'BRAINERD_Minn.', 0), (u'Ifeanyi_Koggu', 0), (u'dsPIC_DSCs', 0), (u'Bernard_Berrian', 0), (u'Bobby_Dellimuti', 0), (u'Veena_Malik', 0), (u'Matawan_Aberdeen_Middle', 0), (u'Promius_Pharmaceuticals_wholly_owned', 0), (u\"Lihu'e_HI_#####\", 0), (u'TOM_GANTERT', 0), (u'Miskowski', 0), (u'Greg_Skubisz', 0), (u'Claude_Camire', 0), (u'Sara_Baras', 0), (u'Exclaim', 0), (u'JAMESTOWN_Va.', 0), (u'Naonka', 0), (u'Dayla', 0), (u'anticoagulant_reversing_agent', 0), (u'Karzkan_opposition_leaders', 0), (u'Twisted_Spoke', 0), (u'Bilkent', 0), (u'Night_Out_FNO', 0), (u'XMLHttpRequest_object', 0), (u'MeteoGroup_forecaster', 0), (u'Tesla_GPUs', 0), (u'Arabi_La.', 0), (u'Hossein_Moghadam', 0), (u'Bowdren', 0), (u'baseman_Geoff_Blum', 0), (u'LaShawn_Bullock', 0), (u'Rapper_DMX_pleads_guilty', 0), (u'environmentally_conscious', 0), (u'Daphne', 0), (u'THE_GOVERMENT', 0), (u'Ryland_NYSE_RYL', 0), (u'Jail_Bharo_Andolan', 0), (u'compulsive_overeater', 0), (u'Pinecones', 0), (u'Gerrit_Viljoen', 0), (u'Davy_Condon', 0), (u'Leonard_Kruimer', 0), (u'Pleasantville', 0), (u'Naza_Italia', 0), (u'blended_smoothies', 0), (u'United_States1', 0), (u'Specially_trained_Hosts', 0), (u'Urological_Institute', 0), (u'TSQ_Quantum_GC', 0), (u'Kathleen_Powderley', 0), (u'CONTACTS_Promotional_Services', 0), (u'winger_Pablo_Barrera', 0), (u'Anbar_Province', 0), (u'McCaskill', 0), (u'Tjozongoro', 0), (u'Grzebski', 0), (u'Worldwise', 0), (u'Indonesian_Umar_Patek', 0), (u'IBM_PowerPC_processor', 0), (u'#/##/####_EIELSON_AIR_FORCE', 0), (u'Chibaya', 0), (u'SCOTTVILLE', 0), (u'Omaha_Steaks', 0), (u'Factory_Playlogic', 0), (u'ChinaNet_undertakes', 0), (u'IDBI_Gilts_Ltd.', 0), (u'_Making', 0), (u'Dividend_Preference_Shares', 0), (u'Nevgi', 0), (u'Kandeel', 0), (u'Neelam_Kapoor', 0), (u'superkicked', 0), (u'Bruce_Fortine', 0), (u'Producer_Swizz_Beatz', 0), (u'Naked_Conversations', 0), (u'Shiv_Dayal', 0), (u'Goodlatte', 0), (u'Jurgielewicz', 0), (u'Coteau', 0), (u'Marriott_Oak_Brook', 0), (u'Ralphs_Albertsons_Vons', 0), (u'CobraNet', 0), (u'3_Nagatinskaya_Ul', 0), (u'Nikola_Stojakovic', 0), (u'Sharon_Squassoni_nuclear', 0), (u'Josh_Laughren', 0), (u'blandness_reminiscent', 0), (u'Cantees', 0), (u'Nylon_magazine', 0), (u'resi_dents', 0), (u'Saltdean', 0), (u'Turkey_defender_Alpay', 0), (u'dire_consequences', 0), (u'Wispelaere', 0), (u'TOULON', 0), (u'mercedesgp.com_forceindiaf1.com_renaultf1.com_toyota', 0), (u'diminutive_bespectacled', 0), (u'ninja_Ryu_Hayabusa', 0), (u'trump', 0), (u'Guo_Guo', 0), (u'Tom_Brimberry', 0), (u'representational_painter', 0), (u'Captured', 0), (u'SPOTSYLVANIA_Va.', 0), (u'portable_IFE', 0), (u'ICD.D_designation', 0), (u'Frank_Bruni', 0), (u'woodwind_solos', 0), (u'secretary_Beth_Mohle', 0), (u'devout_Mormon', 0), (u'Leontine', 0), (u'Viamontes', 0), (u'GERVAIS', 0), (u'BULLETIN_TYPE_Transfer', 0), (u'BY_LAUREN_FOREMAN', 0), (u'Length', 0), (u'ANNE_THOMPSON', 0), (u'Sawarka', 0), (u'Harmful_Algal_Blooms', 0), (u'Maider', 0), (u'Mohammad_Athar', 0), (u'Sen._Arlen_Specter_R-Penn.', 0), (u'Spaight', 0), (u'Dan_Mielke', 0), (u'Buraka', 0), (u'Armero', 0), (u'literally_manipulates_gangly', 0), (u'##GHz_frequency', 0), (u'WEB_EXTRA', 0), (u'Back_Guar', 0), (u'Amorfix_proprietary_Epitope', 0), (u'Quadrantid_meteor_shower', 0), (u'Manhattan_Beachwear', 0), (u\"L'_Orca\", 0), (u'Wi_Fi_Connection', 0), (u'Commissions_receivable', 0), (u'Ribbleton', 0), (u'Joe_Gudenrath_spokesman', 0), (u'borned', 0), (u'Chief_Executive_Andy_Haste', 0), (u'Jacqualyn_Fouse', 0), (u'includes_SlashKey_Farm', 0), (u'Vcorp', 0), (u'Calorie_labeling', 0), (u'Mark_Wahlberg_Christian_Bale', 0), (u'CIM_Mineral_Exploration', 0), (u'Skin_grafting', 0), (u'Jenita_Jeyarajah', 0), (u'Annie_Beecham', 0), (u'synthetic_retinoid', 0), (u'President_Teisuke_Kitayama', 0), (u'Akwatia_constituency', 0), (u'Disaster_Recovery_Riverbed', 0), (u'Youssef_Baba', 0), (u'Fort_Mill_Tega', 0), (u'AAEU', 0), (u'Rune', 0), (u'capitalize', 0), (u'Saratu', 0), (u'Tickle_Me_Pink', 0), (u'Myrrh', 0), (u'Preterm_infants', 0), (u'Ortizes', 0), (u'Amnat', 0), (u'Interpretations_Are', 0), (u'Said_Ouali', 0), (u'Duncton', 0), (u'honorable_profession', 0), (u'P._Heymann', 0), (u'Brad_DeVault', 0), (u'Popping_pills', 0), (u'star_Shia_LaBoeuf', 0), (u'BLYTHEWOOD_SC', 0), (u'Moana_Mackey', 0), (u'Unprecedented', 0), (u'Stade_Aime_Giral', 0), (u'Restart_Talks', 0), (u'ham_fisted_flashbacks', 0), (u'Idk', 0), (u'WINTER_STORM_WATCH_WHICH', 0), (u'Kelly_Luethje_###-###-####', 0), (u'lifts_Grouse_Mountain', 0), (u'Kelvin_Pritchett', 0), (u'actress_Malin_Akerman', 0), (u'Fidalgo_Pool', 0), (u'RED_SOX_NOTEBOOK', 0), (u'defender_Cata_Diaz', 0), (u'##/##/####_KHAS_TV', 0), (u'adaptive_###.##n', 0), (u'Pakradounian', 0), (u'Bellydancing', 0), (u'Nikki_Nicosia', 0), (u'Streetka', 0), (u'seed_Janko_Tipsarevic', 0), (u'Colin_Mathura_Jeffree', 0), (u'Charles_Vitunac', 0), (u'Dukan_Resort', 0), (u'BOLT_browser', 0), (u'Brown_Eco_edu', 0), (u'Hatsumomo', 0), (u'Powerball_Jackpot_Grows', 0), (u'Grosvenor_Casinos', 0), (u'SEAN_SCANLON', 0), (u'Osmanli', 0), (u'Nouvelle_Vague', 0), (u'Tarkarli', 0), (u'adze', 0), (u'overtaking_Phil_Mahre', 0), (u'Yasuaki', 0), (u'Lia_Grainger', 0), (u'Father_Popieluszko', 0), (u'Cameron_Diaz_Kate_Winslet', 0), (u'Barrday', 0), (u'Mastromarino', 0), (u'Giorgi_Kinkladze', 0), (u'Devon_Spirka', 0), (u'Lipitor_Crestor', 0), (u'Kuriyan', 0), (u'Yulu', 0), (u'WBO_welterweight_titlist', 0), (u'wayward_whales', 0), (u'Judge_Raymond_Groarke', 0), (u'warships_Matsuda', 0), (u'bonspiel', 0), (u'Scott_Wheway', 0), (u'Sara_Macliver', 0), (u'Barangay_Holy_Spirit', 0), (u'Integralis_AG', 0), (u'CWAFL', 0), (u'Paternity_Workshop', 0), (u'Coffeecake', 0), (u'pMDsoft', 0), (u'Lt._Gen._Sami_Hafez', 0), (u'Kartchner_Caverns', 0), (u'Toll_Brothers_Inc_TOL.N', 0), (u'Hurriyat_G', 0), (u'Gichuki', 0), (u'whey_protein_isolate', 0), (u'Sampler_Plate', 0), (u'quasars', 0), (u'FIRST_BANCORP', 0), (u'Enlisted_sailors', 0), (u'Camb', 0), (u'Collinwood_Tenn.', 0), (u'\\u22c5_Print', 0), (u'begin_gradual_drawdown', 0), (u'Kowarsky', 0), (u'Beth_Brearley', 0), (u'BIIR', 0), (u'Saginaw_Chippewa_Tribal', 0), (u'Francesca_Rheannon', 0), (u'CONDITIONAL_HANDICAP', 0), (u'Anita_Majumdar', 0), (u'Chace_Crawford_Emma', 0), (u'Yang_Fengrui', 0), (u'Soyabean_degum_Delhi', 0), (u'named_Gryposaurus_monumentensis', 0), (u'StackOverflow', 0), (u'slice_toaster', 0), (u'Alexei_Yashin_Miroslav_Satan', 0), (u'Exchange_OLEX', 0), (u'dej', 0), (u'electrode_sensors', 0), (u'Silcox', 0), (u'Tully_Coffee_\\xae', 0), (u'Nokwanda_Ngombane', 0), (u'Complete_Idiot_Guide', 0), (u'Moshes', 0), (u'Nasdaq_VRST', 0), (u'Hassoon', 0), (u'FC_Dordrecht', 0), (u'Remand_Prison', 0), (u'Renowden', 0), (u'Durliat', 0), (u'Seemond_Stephens', 0), (u'Kvasager', 0), (u'SD###_IS_Digital_ELPH', 0), (u'Electrochemical_Fatigue_Sensor_EFS', 0), (u'e_mail_Smiley@theadvocate.com', 0), (u'Benestad', 0), (u'Shoiab_Akhtar', 0), (u'Serame_Letsoaka', 0), (u'Deertrees_Theatre', 0), (u'Noah_Herron_RB', 0), (u'www.childrens', 0), (u'Tsakos', 0), (u'Crazylegs_Classic', 0), (u'Jesus_figurine', 0), (u'TS_Narayanasami', 0), (u'Piero_Marrazzo', 0), (u'Dr_Babasaheb', 0), (u'SHOULD_START', 0), (u'Roaring_Toyz', 0), (u'DC_LVDT', 0), (u'BY_ANDI_COOK', 0), (u'lawyer_Hastimal_Saraswat', 0), (u'Fadlallah_Al_Bashaer', 0), (u'FORT_WHITE', 0), (u'Catherine_Saillant_Los_Angeles', 0), (u'By_MIKE_COLIAS', 0), (u'sprinkle_evenly', 0), (u'HERRON', 0), (u'Temecula_CA_PRWEB', 0), (u'uppercase', 0), (u'DexCom_Inc.', 0), (u'undetermined', 0), (u'Ltd_WFT', 0), (u'fayette', 0), (u'Longwood_FL_PRWEB', 0), (u\"Yar'Adua_Goodluck\", 0), (u'Sarwar', 0), (u'ONCF', 0), (u'Rudakova', 0), (u'Tripods', 0), (u'COMDEXvirtual', 0), (u'Imran_Shaukat', 0), (u'Ben_Affleck_Graduation_Speec', 0), (u'Zhanar_Tokhtabayeva', 0), (u'Undisputed_middleweight_champion', 0), (u'DoveCorp_Enterprises_Inc.', 0), (u'Lesbian_Alliance', 0), (u'Berkshire_Hathaway_Assurance', 0), (u'Marvelous_Marv_Throneberry', 0), (u'Service_IaaS_Platform', 0), (u'Darrin_Youker', 0), (u'marrying_Roman_Catholics', 0), (u'Laxmi_Prasad_Devkota', 0), (u'Randi_Stuard', 0), (u'Bentgrass', 0), (u'Broekemeier', 0), (u'Hannes_du_Buisson', 0), (u'Fengtai_Softball_Field', 0), (u'Alan_Blinder', 0), (u'grocery_wholesaler_Metcash', 0), (u'fused_reggaeton', 0), (u'Hamashi', 0), (u'KILA', 0), (u'snap_powerslam', 0), (u'Gongalsky', 0), (u'Josh_Shaul', 0), (u'YOUTH_HOCKEY', 0), (u'Weivoda', 0), (u\"WHEN_THERE_'S\", 0), (u'Kolesnikova', 0), (u'Manufacturing_Sciences_NCMS', 0), (u'reabsorbed', 0), (u'noble_knights', 0), (u'IBM_BladeCentre', 0), (u'FNET', 0), (u'Michele_Elyzabeth', 0), (u'Quanbeck', 0), (u'jamband_scene', 0), (u'CGRFS', 0), (u'YOLANDA', 0), (u'replikins', 0), (u'Romani_Gypsy', 0), (u'Fleury_Merogis_south', 0), (u'Zhabei_district', 0), (u'Jalal_Johar', 0), (u'pheresis', 0), (u'emperor_Constantine', 0), (u'4pm_7pm', 0), (u'longhorn_steers', 0), (u'Panaji_Sep', 0), (u'NOWCAP_Services', 0), (u'Hamish_Macbeth', 0), (u'Caroni', 0), (u'ICON_Yachts_freshly', 0), (u'Numara_Software_trusted', 0), (u'nondefense_capital', 0), (u'Losheng_Sanatorium', 0), (u'campaigners_waved_placards', 0), (u'HOOPSWORLD_Wire', 0), (u'##M_Buyback', 0), (u'Lailat_al', 0), (u'Deangelo', 0), (u'BY_ERIK_GERMAN_erik.german', 0), (u'Apache_gunships', 0), (u'Bolivarian_Circles', 0), (u'General_Aronda_Nyakairima', 0), (u'DINING_GUIDE', 0), (u'Andy_Boogaard', 0), (u'Curri', 0), (u'Metro_SmarTrip', 0), (u'Henry_Blofeld', 0), (u'coughing_difficulty_swallowing', 0), (u'JFK_constant_kibitzer', 0), (u'By_ROELAND_van', 0), (u'Malawian_orphan', 0), (u'Demian_McLean', 0), (u'Cytos_Biotechnology_AG', 0), (u'Charitable_donations', 0), (u'Cash_flows', 0), (u'OF_ANY_OTHER', 0), (u'Roxanne_Stites', 0), (u'Termont', 0), (u'Hamai', 0), (u'Subir_Roy', 0), (u'pancaked_entrance', 0), (u'By_GAVIN_GLICKSMAN', 0), (u'Czink', 0), (u'#-###-BUTTERBALL', 0), (u'Bredo_Morstoel', 0), (u'Hopperdietzel', 0), (u'Jesse_Lenharr', 0), (u'NASBO', 0), (u'Soft_tissue_sarcomas', 0), (u'Finzi', 0), (u'Cubans_interdicted', 0), (u'Pinky_Moholi', 0), (u'KMV', 0), (u'tinfoil_hats_rallying', 0), (u'winemaster', 0), (u'La_Rampa', 0), (u'www.elgin.edu_arts', 0), (u'Iowa_Hygienic_Laboratory', 0), (u'Nhlanhla_Masuku', 0), (u'nurturant_parent', 0), (u'V_Radhika_Selvi', 0), (u'Isley_Brothers_Shout', 0), (u'Mohajir_Qaumi_Movement_MQM', 0), (u'BRCA1_mutation_carriers', 0), (u'steeply_plunging', 0), (u'Automotive_Technicians', 0), (u'austere_Wahabi_brand', 0), (u'Bus_Terminus_ISBT', 0), (u'Liquor_Control_Reform_Act', 0), (u'Pending_Pending', 0), (u'Officers_PSOs', 0), (u'Torremolinos', 0), (u'Vitali_Karamnov', 0), (u'Loose_Fit', 0), (u'#-###-FLOWERS', 0), (u'told_evertonTV', 0), (u'Major_Economies', 0), (u'subisidies', 0), (u'sarsen_stones_appeared', 0), (u'IMTEC', 0), (u'Helixate_R', 0), (u'Elchinger', 0), (u'By_JONAH_MANDEL', 0), (u'Flanzbaum', 0), (u'EDUCATION_Bachelor', 0), (u'##.#fps', 0), (u'Badatz', 0), (u'Hurry_Hard', 0), (u'Ashish_Pandey', 0), (u'Jayson_Werth_Shane_Victorino', 0), (u'Prijono', 0), (u'Ars\\xe8ne', 0), (u'Bart_Blanchard', 0), (u'Olympic_Torch_Arrives', 0), (u'BY_JOHN_BRENNAN', 0), (u'TAI_CHI_CLASSES', 0), (u'Yole_D\\xe9veloppement', 0), (u'Rosalita_Come_Out', 0), (u'Mai_Thanh', 0), (u'Sulaymaniyah', 0), (u'Amex_Airline_Index', 0), (u'DARYL_HOLDEN', 0), (u'Masad', 0), (u'Ghadban', 0), (u'Bracket_Updates', 0), (u'HANNspree_FIM_Superbike', 0), (u'Hee_Haw_reruns', 0), (u'Broeder', 0), (u'RealTick_provides', 0), (u'Megatons', 0), (u'Karan_Thapar_Hello', 0), (u'Winskie', 0), (u'Tiatr', 0), (u'Judge_Maura_Slattery', 0), (u'Patrick_Condon', 0), (u'Tomer_Zarchin', 0), (u'Weekly', 0), (u'Shavei_Shomron', 0), (u'BT_Fresca', 0), (u'Overcomes_Adversity', 0), (u'Wazir', 0), (u'Ranendra', 0), (u'Johan_Djorou', 0), (u'Karan_Sharma', 0), (u'Odenthal', 0), (u'Dan_Quatro', 0), (u'venial_sin', 0), (u'Dewey_Redman', 0), (u'Jan_Stubbings', 0), (u'Sanken', 0), (u'Defilippis', 0), (u'Narac', 0), (u'Kiowa_Tribe', 0), (u'smoky_backlighted_black', 0), (u'COTED', 0), (u'Gopal_Bhargava', 0), (u'Justin_Lehr', 0), (u'MMAmania.com', 0), (u'trisodium_phosphate', 0), (u'Warwick_Neck', 0), (u'ISENTRESS_raltegravir', 0), (u'Indiana_Pacers_Roy_Hibbert', 0), (u'cyberthreat', 0), (u'Vince_Carter_Mickael_Pietrus', 0), (u'NYSE_JEF', 0), (u'SAPAC', 0), (u'Thundersticks', 0), (u'Spike_Jonez', 0), (u'Butthole_Surfer', 0), (u'AMRAAM_missile', 0), (u'Randi_Nielson', 0), (u'myeloid_metaplasia', 0), (u'Energizers', 0), (u'Mood_disorders', 0), (u'Cornerback_Nathan_Vasher', 0), (u'Belle_du_Jour', 0), (u'Streufert', 0), (u'Lima_Karel_Navarro', 0), (u'Elva_Lima', 0), (u\"MANAGEMENT_'S_DISCUSSION\", 0), (u'Abdirizak', 0), (u'lactation', 0), (u'poplar_plantations', 0), (u'Danny_Keysar', 0), (u'Conor_McCarron', 0), (u'Salanoa', 0), (u'la_Samaritaine', 0), (u'Ecologistas_en_Accion', 0), (u'LOUIS_KRT', 0), (u'Snowblind_Studios', 0), (u'Uppers', 0), (u'Lemon_Tree_Inn', 0), (u'China_Minmetals', 0), (u'Genome_sequencing', 0), (u'Stan_Schlueter', 0), (u'mista', 0), (u'Hayabusa_Asuka_Law_Offices', 0), (u'Aaron_Lalbachan', 0), (u'Swibold', 0), (u'3mins', 0), (u'Diana_Crossan', 0), (u'Robby_Grewal', 0), (u'Stream_Theory', 0), (u'String_Band', 0), (u'By_SEAN_HYLTON', 0), (u'Tianyulong', 0), (u'Flowmotion', 0), (u'President_Bingu_wa', 0), (u'Birth_Control', 0), (u'Crosses', 0), (u'Moore_Southlawn', 0), (u'COULD_GIVE', 0), (u'NV_NASDAQ_NXPI', 0), (u'Steph_Boyles', 0), (u'Foncia', 0), (u'cladded', 0), (u'Awang_Sekmai', 0), (u'Methodios', 0), (u'Kerja', 0), (u'Jamie_Cullum', 0), (u'NEW_COACHES', 0), (u'DEVILS_LAKE', 0), (u'Lowmoor', 0), (u'Overwork', 0), (u'Crescendo_Partners_II', 0), (u'Julius_Erving_Moses_Malone', 0), (u'Rep._Marti_Coley', 0), (u'Jeremy_Schapp', 0), (u'Beimers', 0), (u'Stefanie', 0), (u'Interfor', 0), (u'robotics_copiers', 0), (u'www.wms.com_select_Investor_Relations', 0), (u'serenity', 0), (u'infielder_Andres_Blanco', 0), (u'El_Segundo_###.#_Isomax', 0), (u'Bojanic', 0), (u'Layang', 0), (u'KAFKA', 0), (u'precipitated_calcium_carbonate', 0), (u'resolved', 0), (u'Flotrack', 0), (u'Alison_Bechdel_Fun', 0), (u'scrod', 0), (u'p_roperty', 0), (u'West_Vaughan_FWV', 0), (u'Chiara_Canzi', 0), (u'Murerwa', 0), (u'###MM_GO', 0), (u'Formula_Kart', 0), (u'LifePak', 0), (u'Fantroy', 0), (u'Hoopz', 0), (u'Ron_Kittle', 0), (u'Bodison', 0), (u'Mpi', 0), (u'Mansur_Essawy', 0), (u'quids', 0), (u'Quarter', 0), (u'Maxine_Beecher', 0), (u'Shock_absorbers', 0), (u'Kielczewski', 0), (u'ladies', 0), (u'Ceco_Environmental_Corp', 0), (u'Dyjuan_Lewis', 0), (u'Offend_Maggie', 0), (u'Victory_Gallop_colt', 0), (u'methodically_dissected', 0), (u'Panique', 0), (u'Hugh_Rodham', 0), (u'Cieszko', 0), (u'Valentino_Rossi_Casey_Stoner', 0), (u'Cori_Crider', 0), (u'repurchase_authorization', 0), (u'Perrin_Whitt', 0), (u'Motshegoa', 0), (u'BostonHerald.com', 0), (u'Anuchit_Nguyen', 0), (u'Teresa_Bozzelli', 0), (u'Cindy_Hawke_Renn', 0), (u'Lake_DFG_catfish', 0), (u'Chibhabha', 0), (u'Lyutsina_Khalip', 0), (u'AIDS_Acquired_Immune', 0), (u'Glacier_Swim', 0), (u'Karl_McKeegan', 0), (u'Szeto', 0), (u'Georgia_Elene_Gedevanishvili', 0), (u'Glatfelter_NYSE', 0), (u'Order_LFO', 0), (u'secretary_Shiv_Shankar', 0), (u'sister_Lauralee_Sipe', 0), (u'MAMM', 0), (u'Detective_Larry_Norvall', 0), (u'Guangan', 0), (u'Monies_raised', 0), (u'Jerry_Zieg_Vice', 0), (u'AND_SUBSIDIARIES_CONDENSED_CONSOLIDATED', 0), (u'Nam_Theun_II', 0), (u'Spinach_Artichoke', 0), (u'R\\xe9serve', 0), (u'JANUARY_HOLMES_jholmes@bradenton.com', 0), (u'contagious_disease', 0), (u'Yum_Brands_KFC', 0), (u'Walt_Quattlebaum', 0), (u\"GLOUCESTER_'S\", 0), (u'Yoshihiro_Okumura_general', 0), (u'caffeinated_malt_beverage', 0), (u'Cannino', 0), (u'Kane_Haffey', 0), (u'Outstanding_Supporting', 0), (u'latin_america', 0), (u'Webspace', 0), (u'Petroleum_Corp_\\u4e2d\\u6cb9', 0), (u'OPEN_LETTER_TO', 0), (u'InterBase', 0), (u'Aconcagua_refinery', 0), (u'shiksa', 0), (u'Ernest_Gruening', 0), (u'Dursunbey', 0), (u'6R_BH4', 0), (u'adviser_Arkady_Dvorkovich', 0), (u'somnambulism', 0), (u'FGIC', 0), (u'altitudes', 0), (u'MONTY', 0), (u'Panagia', 0), (u'spokeswoman_Claudia_Piccinin', 0), (u'if.comedy_award', 0), (u'Atlas_Cove', 0), (u'Yuyun', 0), (u'Fincke', 0), (u'linebacker_Elston_Forte', 0), (u'defenseman_Beau_Geisler', 0), (u'Capt._Wendell_Raborn', 0), (u'POLICE_STATE', 0), (u'Mega_Martial_Arts', 0), (u'Joseph_Ochieno', 0), (u'MORTGAGE_CRISIS', 0), (u'Biwot', 0), (u'Morris_Adjmi', 0), (u'Jerudong_Prison', 0), (u'Homeownership_Preservation_Foundation', 0), (u'\\xdcsk\\xfcl', 0), (u'Dr._Dominique_Legros', 0), (u'NAPERVILLE_ILL', 0), (u'Xeikon_presses', 0), (u'Vivacon_AG_VIA', 0), (u'Maulvi_Abbas', 0), (u'breads_meats', 0), (u'Walter_Maestri', 0), (u'Fare_Collection', 0), (u'psoriasis_eczema', 0), (u'yawner', 0), (u'Mudiaga_Affe', 0), (u'Positives', 0), (u'Aldergrove_Secondary', 0), (u'Baba_Shehu', 0), (u'gyrating_nether_regions', 0), (u'Ultramobile_PC', 0), (u'Maria_Sharapova_Elena_Dementieva', 0), (u'Cooking_Made_Easy', 0), (u'#####_Knoxville_TN', 0), (u'Alcindo_Holder', 0), (u'Preloaded', 0), (u'STILL_UNDECIDED', 0), (u'Kaho_Naa_Pyar_Hai', 0), (u'Rodgers_Rop', 0), (u'Sassan_Ghahramani', 0), (u'1pm_AEDT', 0), (u'Bhadravathi', 0), (u'Jonestown_memorial', 0), (u'Carte_Noire', 0), (u'Fanconi_Anemia_Research', 0), (u'editor_Evie_Righter', 0), (u'Bendolph', 0), (u'Sprinklers_hovered', 0), (u'Opoku_Afriyie', 0), (u'Montco', 0), (u'Strata_CIX', 0), (u'Freddy_Maertens', 0), (u'Todd_Fromer_Garth', 0), (u'unsporting', 0), (u'Fort_Benning_3rd_Brigade', 0), (u'JazzMN_Big_Band', 0), (u'Mutaboba', 0), (u'Drilling_NASDAQ_UDRL', 0), (u'FSA_Sants', 0), (u'Van_Bakel', 0), (u'Asset_Managed_Municipals', 0), (u'Legatum_Prosperity_Index', 0), (u'Marcio_Araujo', 0), (u'Justice_Buddin', 0), (u'Wireless_Terminals', 0), (u'Jodrell_Bank', 0), (u'SHANNA', 0), (u'Selene_Stakes', 0), (u'UCAB', 0), (u'Connect###', 0), (u'Angela_Garnsey', 0), (u'utilizing_Onstream_Media', 0), (u'E.coli_outbreak', 0), (u'flagship_PSoC_R', 0), (u'QLogic_HBAs', 0), (u'Chertavian', 0), (u'Lindsay_Fynn', 0), (u'chemo_immunotherapy', 0), (u'Philip_Umeadi', 0), (u'Wendell_Gibby', 0), (u'Professor_Hilary_Beckles', 0), (u'Nick_Favatella', 0), (u'Rose_Rayhaan', 0), (u'Thembile_Kanono', 0), (u'SkyTG##', 0), (u'Jeff_Cirillo_singled', 0), (u'Dyersville_Iowa', 0), (u'dahlias', 0), (u'Sumo_Omni', 0), (u'4Sight_Media_LLC', 0), (u'Jay_Massirman', 0), (u'Masauko', 0), (u'Vagrant_Records', 0), (u'Paul_Drayson', 0), (u'Cottey_College', 0), (u'LAKE_WORTH_CHRISTIAN', 0), (u'Al_Jazeera_correspondent', 0), (u'SVB_Alliant', 0), (u'Gen._Sultan_Hashim', 0), (u'Wichitans', 0), (u'Ali_Bazzi', 0), (u'Alberto_Broggi', 0), (u'Damacy', 0), (u'Squeals', 0), (u'Tudo', 0), (u'Beckwourth', 0), (u'Kelvin_Wickham', 0), (u'JOE_Korp', 0), (u'Dr._Dulcamara', 0), (u'Gardom', 0), (u'Michoacana', 0), (u'Joyce_Chiles', 0), (u'processor_2GB_RAM', 0), (u'gi_normous', 0), (u'sipped_cocktails', 0), (u'Zahir', 0), (u'USC_Aiken_Convocation', 0), (u'outdoordb@sbcglobal.net', 0), (u'Revelers_drank', 0), (u'UNIVERSITY_PLACE', 0), (u'Bocholt_Germany', 0), (u'OPERATIONS_Unaudited_Three_Months', 0), (u'TORONTO_ONTARIO_Oct', 0), (u'Clwyd_Alyn_Housing', 0), (u'Jupiter_Icy_Moons_Orbiter', 0), (u'Ramia_watched', 0), (u'manager_Terry_Francona', 0), (u'Chlorofluorocarbons_CFCs', 0), (u'Icban', 0), (u'Mazin_Yahya', 0), (u'jetEngine_TM_BPS', 0), (u'wuk', 0), (u'Steve_Dauterman', 0), (u'PDF2Office_Personal_v#.#', 0), (u'Ebdon', 0), (u'Sundazed', 0), (u'Cardiac_Catheterization', 0), (u'Terasem_Movement', 0), (u'CATHERINE_MCLEAN', 0), (u'Holm_Bergholdt', 0), (u'Schaft_Creek_Project', 0), (u'Maurice_de_Vlaminck', 0), (u'Golden_Gumboot', 0), (u'email_peter.walsh_@_archant.co.uk', 0), (u'Gabriela_Baczynska', 0), (u'Real_Madrids', 0), (u'Varkulis', 0), (u'LINPAC_Storage_Systems', 0), (u'stretching', 0), (u'Anthony_Falzone', 0), (u'Joseph_Rowntree_Housing', 0), (u'Laier', 0), (u'Joria', 0), (u'DCOs', 0), (u'REVVED', 0), (u'Greg_Palmore', 0), (u'toymaker_Hasbro', 0), (u'Gwen_Holdmann', 0), (u'Asuret', 0), (u'Ae_Haseeno', 0), (u'Marine_Corps_Pvt', 0), (u'bore_eerie_similarities', 0), (u'Selective_Availability_Anti_Spoofing', 0), (u'CITIC', 0), (u'Morgan_Stanley_Secs', 0), (u'Njazi_Kuqi', 0), (u'Kreuser', 0), (u'iceland', 0), (u'Matt_Bayles', 0), (u'Linesmen_Brian', 0), (u'Asef', 0), (u'www.brennermortuary.com', 0), (u'jetty', 0), (u'OR_PURSUED_BY', 0), (u'Stuart_Masterson', 0), (u'Porkopolis', 0), (u'attorney_Marsha_Kosmatka', 0), (u'InsideLine.com', 0), (u'Hardcharger', 0), (u'spinach_zucchini', 0), (u'BY_JONATHAN_LEMIRE', 0), (u'Wanni_battlefront', 0), (u'Majeed_Al_Alawi', 0), (u'HAPPYneuron', 0), (u'Donisi', 0), (u'inheres', 0), (u'Bharat_Petroleum_Corp', 0), (u'Randy_Knorr', 0), (u'Mikhail_Lesin', 0), (u'HL2_Episode', 0), (u'maXair', 0), (u'twangy_guitar', 0), (u'Sled_dogs', 0), (u'Zone_FTZ', 0), (u'THE_TRUTH_ABOUT', 0), (u'Vukmanic_stepfather_Tony', 0), (u'Somethin_Stupid', 0), (u'Lin_Hsin_yi', 0), (u'Adotey', 0), (u'Pitlik', 0), (u'Shino_Yuasa_Noriko_Kitano', 0), (u'BioBehavioral_Diagnostics_Company', 0), (u'Brant_Branham', 0), (u'attorney_Don_Werno', 0), (u'Yang_Seung', 0), (u'Hellenic_Exchanges', 0), (u'Theodosatos', 0), (u'United_Statesand', 0), (u'Ntsewa', 0), (u'Steiff_teddy_bear', 0), (u'Jesup_Ga.', 0), (u'Historic_Locust_Grove', 0), (u'No._###R_SFAS', 0), (u'Humble_EOR_Project', 0), (u'Pia_Cramling', 0), (u'Tobago_TATT', 0), (u'Chairman_Thad_Cochran', 0), (u'Antidepressant_medications', 0), (u'Alderney_Landing', 0), (u'vertebrate_paleontology', 0), (u'brrrr', 0), (u'ALWAYS_WANTED', 0), (u'unserved_warrants', 0), (u'Eddie_Lockjaw_Davis', 0), (u'LINKED', 0), (u'Pillar_Bump', 0), (u'Star_Wars_Trench', 0), (u'Tzipi_Livni_centrist_Kadima', 0), (u'Keegan_Linza', 0), (u'Nikhil_Arya', 0), (u'Drunkest', 0), (u'Augusto_Syjuco', 0), (u'BY_BARRY_WILLIAM', 0), (u'RFID_middleware', 0), (u'Misgav_Am', 0), (u'HTTP_compression', 0), (u'Garth_Brooks_Tom_Selleck', 0), (u'InterSense_Incorporated', 0), (u'carrousel', 0), (u'BrandZ_study', 0), (u'VICTOR_VALLEY', 0), (u'Heavily_armed_SWAT', 0), (u'booster_rockets', 0), (u'Bellahouston_Park_Glasgow', 0), (u'Bluewater_Quay', 0), (u'Aasia_Bibi', 0), (u'Pfeil', 0), (u'Consensus', 0), (u'Sarah_DeSmet', 0), (u'http://www.vasco.com', 0), (u'Nasdaq_VPHM', 0), (u'Breadalbane', 0), (u'Isaac_Hindin_Miller', 0), (u'Ann_Biderman', 0), (u'Jenkyn', 0), (u'Eco_Luxe', 0), (u'exchanged', 0), (u'vise_versa', 0), (u'al_Shweiri', 0), (u'DOUGLAS_MCINTYRE_Posted', 0), (u'Jwalamukhi', 0), (u'Jerrol', 0), (u'Spencer_Zwick', 0), (u'toxic_cane_toads', 0), (u'Aminian', 0), (u'8GB_DDR3_RAM', 0), (u'Granary', 0), (u'Goodemote', 0), (u'Todd_Sebek', 0), (u'Walid_Raad', 0), (u'ImmunoVEX_HSV2', 0), (u'Shamblers', 0), (u'prediabetes', 0), (u'Udo_Dreher', 0), (u'deviating', 0), (u'RadMax_\\u2122', 0), (u'NEITHER_TSX_VENTURE', 0), (u'Austria_Anna_Fenninger', 0), (u'Publisher_Conde_Nast', 0), (u'Raheem_Brock', 0), (u'Taelor_Karr', 0), (u'Simiona', 0), (u'Himalayan_Geology', 0), (u'D\\xc3_\\xbc_sseldorf', 0), (u'Delbert_Elliott', 0), (u'Cricketing_Excellence', 0), (u'relocating_stowage_platform', 0), (u'Sean_Connery_Joanne_Woodward', 0), (u'DETECTS_BEARISH_HARAMI_PATTERN', 0), (u'FinePix_S5_Pro', 0), (u'pm_edt', 0), (u'Cusack_Stand', 0), (u'Sinyi_Realty', 0), (u'MONTREAL_QC_SEPTEMBER', 0), (u'Karla_Barguiarena', 0), (u'Antaryami_Bains', 0), (u'Zingiber_officinale', 0), (u'spokeswoman_Esther_Bowring', 0), (u'Chatwani', 0), (u'Front_Wheel', 0), (u'Downtowners', 0), (u'Brunstrom', 0), (u'Hotsenpiller', 0), (u'Panel_Weighs', 0), (u'Echelon_NES', 0), (u'seamer_Shaun_Pollock', 0), (u'##Fifty_style', 0), (u'L._Lattimer', 0), (u'Hethel_Engineering_Centre', 0), (u'Brazilian_entrepreneur_Eike', 0), (u'Trusz', 0), (u'VMex', 0), (u'named_Pheidippides', 0), (u'Osga', 0), (u'Stephen_Ntim', 0), (u'WILL_NOT_CHANGE', 0), (u'pan_de_muerto', 0), (u'tomatoes_scallions', 0), (u'CMSE', 0), (u'SOLON_SE', 0), (u'Mehdi_Morshed_executive', 0), (u'minister_Bill_Rammell', 0), (u'Raffles_Hotels', 0), (u'Deborah_Needleman', 0), (u'Yulee_Fla.', 0), (u'FreeStyle', 0), (u'patent_infringement_lawsuits', 0)]\n"
     ]
    }
   ],
   "source": [
    "print results[:10], '\\n\\n', results[10:]"
   ]
  },
  {
   "cell_type": "code",
   "execution_count": 59,
   "metadata": {},
   "outputs": [
    {
     "data": {
      "text/plain": [
       "<matplotlib.collections.PathCollection at 0x1fad69d90>"
      ]
     },
     "execution_count": 59,
     "metadata": {},
     "output_type": "execute_result"
    },
    {
     "data": {
      "image/png": "[encoded data removed]",
      "text/plain": [
       "<matplotlib.figure.Figure at 0x1fad69e50>"
      ]
     },
     "metadata": {},
     "output_type": "display_data"
    }
   ],
   "source": [
    "plt.scatter(xs1,ys1, c='red')\n",
    "plt.scatter(xs2,ys2, c='blue')"
   ]
  },
  {
   "cell_type": "code",
   "execution_count": 54,
   "metadata": {
    "collapsed": true
   },
   "outputs": [],
   "source": [
    "results = word_vectors.most_similar(positive=['programmer', 'woman'], negative=['man'])"
   ]
  },
  {
   "cell_type": "code",
   "execution_count": 162,
   "metadata": {},
   "outputs": [
    {
     "data": {
      "text/plain": [
       "[(u'programmers', 0.5675976276397705),\n",
       " (u'Programmer', 0.5239194631576538),\n",
       " (u'coder', 0.5199723839759827),\n",
       " (u'computer_programmer', 0.5073486566543579),\n",
       " (u'graphic_designer', 0.47666358947753906),\n",
       " (u'programer', 0.463584840297699),\n",
       " (u'designer', 0.4621824622154236),\n",
       " (u'coders', 0.45871683955192566),\n",
       " (u'librarian', 0.4511215388774872),\n",
       " (u'technologist', 0.43002596497535706)]"
      ]
     },
     "execution_count": 162,
     "metadata": {},
     "output_type": "execute_result"
    }
   ],
   "source": [
    "results"
   ]
  }
 ],
 "metadata": {
  "kernelspec": {
   "display_name": "Python 2",
   "language": "python",
   "name": "python2"
  },
  "language_info": {
   "codemirror_mode": {
    "name": "ipython",
    "version": 2
   },
   "file_extension": ".py",
   "mimetype": "text/x-python",
   "name": "python",
   "nbconvert_exporter": "python",
   "pygments_lexer": "ipython2",
   "version": "2.7.12"
  }
 },
 "nbformat": 4,
 "nbformat_minor": 2
}
