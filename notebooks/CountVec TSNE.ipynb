{
 "cells": [
  {
   "cell_type": "code",
   "execution_count": 1,
   "metadata": {
    "collapsed": true
   },
   "outputs": [],
   "source": [
    "import pandas as pd\n",
    "import numpy as np\n",
    "import matplotlib.pyplot as plt\n",
    "%matplotlib qt"
   ]
  },
  {
   "cell_type": "code",
   "execution_count": 28,
   "metadata": {
    "collapsed": true
   },
   "outputs": [],
   "source": [
    "# sent1 = np.load('./small_data/train_sentence1_vecs.npy')\n",
    "# sent2 = np.load('./small_data/train_sentence2_vecs.npy')\n",
    "\n",
    "sent1 = np.load('./small_data/train_word2vec_s1.npy')\n",
    "sent2 = np.load('./small_data/train_word2vec_s2.npy')\n",
    "\n",
    "\n",
    "train_labels = np.load('./small_data/train_labels.npy')"
   ]
  },
  {
   "cell_type": "code",
   "execution_count": 17,
   "metadata": {
    "collapsed": true
   },
   "outputs": [],
   "source": [
    "from sklearn.manifold import TSNE"
   ]
  },
  {
   "cell_type": "code",
   "execution_count": 25,
   "metadata": {
    "collapsed": true
   },
   "outputs": [],
   "source": [
    "t = TSNE(perplexity=50., n_iter=100000)"
   ]
  },
  {
   "cell_type": "code",
   "execution_count": 29,
   "metadata": {
    "collapsed": true
   },
   "outputs": [],
   "source": [
    "n_points = 10\n",
    "\n",
    "tsne1 = t.fit_transform(sent1[:n_points])\n",
    "tsne2 = t.fit_transform(sent2[:n_points])\n",
    "\n",
    "_filter = train_labels[:n_points]\n",
    "_filter2 = 1 - _filter"
   ]
  },
  {
   "cell_type": "code",
   "execution_count": 31,
   "metadata": {
    "collapsed": true
   },
   "outputs": [],
   "source": [
    "cmap = plt.get_cmap('gnuplot')\n",
    "colors = [cmap(i) for i in np.linspace(0, 1, n_points)]\n",
    "\n",
    "for c, p1, p2, l in zip(colors, tsne1, tsne2, train_labels):\n",
    "    plt.scatter(p1[0], p1[1], c=c, s=100)\n",
    "    plt.scatter(p2[0], p2[1], c=c, s=100)\n",
    "    cap = 'p' if l == 1 else 'n'\n",
    "    plt.annotate(cap, (p2[0], p2[1]))\n",
    "    plt.annotate(cap, (p1[0], p1[1]), )\n",
    "plt.show()"
   ]
  }
 ],
 "metadata": {
  "kernelspec": {
   "display_name": "Python 2",
   "language": "python",
   "name": "python2"
  },
  "language_info": {
   "codemirror_mode": {
    "name": "ipython",
    "version": 2
   },
   "file_extension": ".py",
   "mimetype": "text/x-python",
   "name": "python",
   "nbconvert_exporter": "python",
   "pygments_lexer": "ipython2",
   "version": "2.7.13"
  }
 },
 "nbformat": 4,
 "nbformat_minor": 2
}
