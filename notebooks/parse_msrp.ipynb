{
 "cells": [
  {
   "cell_type": "code",
   "execution_count": 1,
   "metadata": {
    "collapsed": true
   },
   "outputs": [],
   "source": [
    "import numpy as np\n",
    "import pandas as pd"
   ]
  },
  {
   "cell_type": "code",
   "execution_count": 2,
   "metadata": {
    "collapsed": true
   },
   "outputs": [],
   "source": [
    "TEST_FP = './small_data/msr_paraphrase_test.txt'\n",
    "TRAIN_FP = './small_data/msr_paraphrase_train.txt'"
   ]
  },
  {
   "cell_type": "code",
   "execution_count": 3,
   "metadata": {
    "collapsed": true
   },
   "outputs": [],
   "source": [
    "def parse_lines(lines):\n",
    "    parsed = []\n",
    "    for line in lines:\n",
    "        parts = line.strip('\\n\\r').split('\\t')\n",
    "        parsed.append({\n",
    "            'paraphrase': int(parts[0]),\n",
    "            'str1_id': int(parts[1]),\n",
    "            'str2_id': int(parts[2]),\n",
    "            'str1': parts[3],\n",
    "            'str2': parts[4]\n",
    "        })\n",
    "    return parsed"
   ]
  },
  {
   "cell_type": "code",
   "execution_count": 4,
   "metadata": {
    "collapsed": true
   },
   "outputs": [],
   "source": [
    "def parse_file(fp):\n",
    "    with open(fp, 'r') as f:\n",
    "        lines = f.readlines()[1:]\n",
    "        df = pd.DataFrame(parse_lines(lines))\n",
    "    return df"
   ]
  },
  {
   "cell_type": "code",
   "execution_count": 6,
   "metadata": {
    "collapsed": true
   },
   "outputs": [],
   "source": [
    "train = parse_file(TRAIN_FP)\n",
    "test = parse_file(TEST_FP)"
   ]
  },
  {
   "cell_type": "code",
   "execution_count": 7,
   "metadata": {},
   "outputs": [],
   "source": [
    "train.to_csv('./small_data/train.csv')\n",
    "test.to_csv('./small_data/test.csv')"
   ]
  },
  {
   "cell_type": "code",
   "execution_count": 14,
   "metadata": {
    "collapsed": true
   },
   "outputs": [],
   "source": [
    "train_vecs1 = train['str1']\n",
    "train_vecs2 = train['str2']\n",
    "test_vecs1 = test['str1']\n",
    "test_vecs2 = test['str2']"
   ]
  },
  {
   "cell_type": "code",
   "execution_count": 9,
   "metadata": {},
   "outputs": [
    {
     "data": {
      "text/plain": [
       "True"
      ]
     },
     "execution_count": 9,
     "metadata": {},
     "output_type": "execute_result"
    }
   ],
   "source": [
    "len(train_vecs1) == len(train_vecs2)"
   ]
  },
  {
   "cell_type": "code",
   "execution_count": 10,
   "metadata": {
    "collapsed": true
   },
   "outputs": [],
   "source": [
    "from sklearn.feature_extraction.text import CountVectorizer"
   ]
  },
  {
   "cell_type": "code",
   "execution_count": 11,
   "metadata": {
    "collapsed": true
   },
   "outputs": [],
   "source": [
    "vectorizer = CountVectorizer(lowercase=True,\n",
    "                             stop_words='english',\n",
    "                             max_df=1.0,\n",
    "                             min_df=1,\n",
    "                             max_features=None, \n",
    "                             binary=True)"
   ]
  },
  {
   "cell_type": "code",
   "execution_count": 19,
   "metadata": {},
   "outputs": [
    {
     "name": "stdout",
     "output_type": "stream",
     "text": [
      "8152 3450\n",
      "4076 4076\n"
     ]
    }
   ],
   "source": [
    "x = train_vecs1.append(train_vecs2)\n",
    "y = test_vecs1.append(test_vecs2)\n",
    "\n",
    "piv = len(x)\n",
    "\n",
    "_all = x.append(y)\n",
    "\n",
    "_all_vec = vectorizer.fit_transform(_all).toarray()\n",
    "# yv = vectorizer.fit_transform(y).toarray()\n",
    "\n",
    "print len(x), len(y)\n",
    "xv = _all_vec[:piv]\n",
    "yv = _all_vec[piv:]\n",
    "\n",
    "\n",
    "x1 = xv[:len(train_vecs1)]\n",
    "x2 = xv[len(train_vecs1):]\n",
    "y1 = yv[:len(test_vecs1)]\n",
    "y2 = yv[len(test_vecs1):]\n",
    "\n",
    "print len(x1), len(x2)\n",
    "\n",
    "assert len(x1) == len(x2)\n",
    "assert len(y1) == len(y2)\n",
    "assert len(y1[0]) == len(y2[0])"
   ]
  },
  {
   "cell_type": "code",
   "execution_count": 20,
   "metadata": {
    "collapsed": true
   },
   "outputs": [],
   "source": [
    "with open('./small_data/train_sentence2_vecs_eq.npy', 'w') as f:\n",
    "    np.save(f, x1)"
   ]
  },
  {
   "cell_type": "code",
   "execution_count": 21,
   "metadata": {
    "collapsed": true
   },
   "outputs": [],
   "source": [
    "with open('./small_data/train_sentence1_vecs_eq.npy', 'w') as f:\n",
    "    np.save(f, x2)"
   ]
  },
  {
   "cell_type": "code",
   "execution_count": 22,
   "metadata": {
    "collapsed": true
   },
   "outputs": [],
   "source": [
    "with open('./small_data/test_sentence1_vecs_eq.npy', 'w') as f:\n",
    "    np.save(f, y1)\n",
    "    \n",
    "with open('./small_data/test_sentence2_vecs_eq.npy', 'w') as f:\n",
    "    np.save(f, y2)"
   ]
  },
  {
   "cell_type": "code",
   "execution_count": 23,
   "metadata": {
    "collapsed": true
   },
   "outputs": [],
   "source": [
    "with open('./small_data/train_labels.npy', 'w') as f:\n",
    "    np.save(f, train['paraphrase'].as_matrix())\n",
    "    \n",
    "with open('./small_data/test_labels.npy', 'w') as f:\n",
    "    np.save(f, test['paraphrase'].as_matrix())"
   ]
  }
 ],
 "metadata": {
  "kernelspec": {
   "display_name": "Python 2",
   "language": "python",
   "name": "python2"
  },
  "language_info": {
   "codemirror_mode": {
    "name": "ipython",
    "version": 2
   },
   "file_extension": ".py",
   "mimetype": "text/x-python",
   "name": "python",
   "nbconvert_exporter": "python",
   "pygments_lexer": "ipython2",
   "version": "2.7.12"
  }
 },
 "nbformat": 4,
 "nbformat_minor": 2
}
