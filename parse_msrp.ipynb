{
 "cells": [
  {
   "cell_type": "code",
   "execution_count": 2,
   "metadata": {
    "collapsed": true
   },
   "outputs": [],
   "source": [
    "import numpy as np\n",
    "import pandas as pd"
   ]
  },
  {
   "cell_type": "code",
   "execution_count": 3,
   "metadata": {
    "collapsed": true
   },
   "outputs": [],
   "source": [
    "TEST_FP = './data/msr_paraphrase_test.txt'\n",
    "TRAIN_FP = './data/msr_paraphrase_train.txt'"
   ]
  },
  {
   "cell_type": "code",
   "execution_count": 25,
   "metadata": {
    "collapsed": true
   },
   "outputs": [],
   "source": [
    "def parse_lines(lines):\n",
    "    parsed = []\n",
    "    for line in lines:\n",
    "        parts = line.strip('\\n\\r').split('\\t')\n",
    "        parsed.append({\n",
    "            'paraphrase': int(parts[0]),\n",
    "            'str1_id': int(parts[1]),\n",
    "            'str2_id': int(parts[2]),\n",
    "            'str1': parts[3],\n",
    "            'str2': parts[4]\n",
    "        })\n",
    "    return parsed"
   ]
  },
  {
   "cell_type": "code",
   "execution_count": 26,
   "metadata": {
    "collapsed": true
   },
   "outputs": [],
   "source": [
    "def parse_file(fp):\n",
    "    with open(fp, 'r') as f:\n",
    "        lines = f.readlines()[1:]\n",
    "        df = pd.DataFrame(parse_lines(lines))\n",
    "    return df"
   ]
  },
  {
   "cell_type": "code",
   "execution_count": 27,
   "metadata": {
    "collapsed": true
   },
   "outputs": [],
   "source": [
    "train = parse_file(TRAIN_FP)\n",
    "test = parse_file(TEST_FP)"
   ]
  },
  {
   "cell_type": "code",
   "execution_count": 57,
   "metadata": {
    "collapsed": true
   },
   "outputs": [],
   "source": [
    "train.to_csv('./data/train.csv')\n",
    "test.to_csv('./data/test.csv')"
   ]
  },
  {
   "cell_type": "code",
   "execution_count": 53,
   "metadata": {
    "collapsed": true
   },
   "outputs": [],
   "source": [
    "train_vecs1 = train['str1']\n",
    "train_vecs2 = train['str2']\n",
    "test_vecs1 = test['str1']\n",
    "test_vecs2 = test['str2']"
   ]
  },
  {
   "cell_type": "code",
   "execution_count": 61,
   "metadata": {},
   "outputs": [
    {
     "data": {
      "text/plain": [
       "True"
      ]
     },
     "execution_count": 61,
     "metadata": {},
     "output_type": "execute_result"
    }
   ],
   "source": [
    "len(train_vecs1) == len(train_vecs2)"
   ]
  },
  {
   "cell_type": "code",
   "execution_count": 32,
   "metadata": {
    "collapsed": true
   },
   "outputs": [],
   "source": [
    "from sklearn.feature_extraction.text import CountVectorizer"
   ]
  },
  {
   "cell_type": "code",
   "execution_count": 63,
   "metadata": {
    "collapsed": true
   },
   "outputs": [],
   "source": [
    "vectorizer = CountVectorizer(lowercase=True,\n",
    "                             stop_words='english',\n",
    "                             max_df=1.0,\n",
    "                             min_df=1,\n",
    "                             max_features=None, \n",
    "                             binary=True)"
   ]
  },
  {
   "cell_type": "code",
   "execution_count": 73,
   "metadata": {},
   "outputs": [],
   "source": [
    "x = train_vecs1.append(train_vecs2)\n",
    "y = test_vecs1.append(test_vecs2)\n",
    "\n",
    "xv = vectorizer.fit_transform(x).toarray()\n",
    "yv = vectorizer.fit_transform(y).toarray()\n",
    "\n",
    "x1 = xv[:len(train_vecs1)]\n",
    "x2 = xv[len(train_vecs1):]\n",
    "y1 = yv[:len(test_vecs1)]\n",
    "y2 = yv[len(test_vecs1):]\n",
    "\n",
    "assert len(x1) == len(x2)\n",
    "assert len(y1) == len(y2)"
   ]
  },
  {
   "cell_type": "code",
   "execution_count": 75,
   "metadata": {
    "collapsed": true
   },
   "outputs": [],
   "source": [
    "with open('./data/train_sentence2_vecs.npy', 'w') as f:\n",
    "    np.save(f, x1)"
   ]
  },
  {
   "cell_type": "code",
   "execution_count": 76,
   "metadata": {
    "collapsed": true
   },
   "outputs": [],
   "source": [
    "with open('./data/train_sentence1_vecs.npy', 'w') as f:\n",
    "    np.save(f, x2)"
   ]
  },
  {
   "cell_type": "code",
   "execution_count": 77,
   "metadata": {
    "collapsed": true
   },
   "outputs": [],
   "source": [
    "with open('./data/test_sentence1_vecs.npy', 'w') as f:\n",
    "    np.save(f, z1)\n",
    "    \n",
    "with open('./data/test_sentence2_vecs.npy', 'w') as f:\n",
    "    np.save(f, z2)"
   ]
  },
  {
   "cell_type": "code",
   "execution_count": 70,
   "metadata": {
    "collapsed": true
   },
   "outputs": [],
   "source": [
    "with open('./data/train_labels.npy', 'w') as f:\n",
    "    np.save(f, train['paraphrase'].as_matrix())\n",
    "    \n",
    "with open('./data/test_labels.npy', 'w') as f:\n",
    "    np.save(f, test['paraphrase'].as_matrix())"
   ]
  }
 ],
 "metadata": {
  "kernelspec": {
   "display_name": "Python 2",
   "language": "python",
   "name": "python2"
  },
  "language_info": {
   "codemirror_mode": {
    "name": "ipython",
    "version": 2
   },
   "file_extension": ".py",
   "mimetype": "text/x-python",
   "name": "python",
   "nbconvert_exporter": "python",
   "pygments_lexer": "ipython2",
   "version": "2.7.12"
  }
 },
 "nbformat": 4,
 "nbformat_minor": 2
}
