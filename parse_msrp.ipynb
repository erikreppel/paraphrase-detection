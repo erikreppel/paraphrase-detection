{
 "cells": [
  {
   "cell_type": "code",
   "execution_count": 2,
   "metadata": {},
   "outputs": [],
   "source": [
    "import numpy as np\n",
    "import pandas as pd"
   ]
  },
  {
   "cell_type": "code",
   "execution_count": 8,
   "metadata": {
    "collapsed": true
   },
   "outputs": [],
   "source": [
    "TEST_FP = './small_data/msr_paraphrase_test.txt'\n",
    "TRAIN_FP = './small_data/msr_paraphrase_train.txt'"
   ]
  },
  {
   "cell_type": "code",
   "execution_count": 9,
   "metadata": {
    "collapsed": true
   },
   "outputs": [],
   "source": [
    "def parse_lines(lines):\n",
    "    parsed = []\n",
    "    for line in lines:\n",
    "        parts = line.strip('\\n\\r').split('\\t')\n",
    "        parsed.append({\n",
    "            'paraphrase': int(parts[0]),\n",
    "            'str1_id': int(parts[1]),\n",
    "            'str2_id': int(parts[2]),\n",
    "            'str1': parts[3],\n",
    "            'str2': parts[4]\n",
    "        })\n",
    "    return parsed"
   ]
  },
  {
   "cell_type": "code",
   "execution_count": 10,
   "metadata": {
    "collapsed": true
   },
   "outputs": [],
   "source": [
    "def parse_file(fp):\n",
    "    with open(fp, 'r') as f:\n",
    "        lines = f.readlines()[1:]\n",
    "        df = pd.DataFrame(parse_lines(lines))\n",
    "    return df"
   ]
  },
  {
   "cell_type": "code",
   "execution_count": 11,
   "metadata": {},
   "outputs": [],
   "source": [
    "train = parse_file(TRAIN_FP)\n",
    "test = parse_file(TEST_FP)"
   ]
  },
  {
   "cell_type": "code",
   "execution_count": 13,
   "metadata": {},
   "outputs": [],
   "source": [
    "train.to_csv('./small_data/train.csv')\n",
    "test.to_csv('./small_data/test.csv')"
   ]
  },
  {
   "cell_type": "code",
   "execution_count": 14,
   "metadata": {
    "collapsed": true
   },
   "outputs": [],
   "source": [
    "train_vecs1 = train['str1']\n",
    "train_vecs2 = train['str2']\n",
    "test_vecs1 = test['str1']\n",
    "test_vecs2 = test['str2']"
   ]
  },
  {
   "cell_type": "code",
   "execution_count": 15,
   "metadata": {},
   "outputs": [
    {
     "data": {
      "text/plain": [
       "True"
      ]
     },
     "execution_count": 15,
     "metadata": {},
     "output_type": "execute_result"
    }
   ],
   "source": [
    "len(train_vecs1) == len(train_vecs2)"
   ]
  },
  {
   "cell_type": "code",
   "execution_count": 16,
   "metadata": {
    "collapsed": true
   },
   "outputs": [],
   "source": [
    "from sklearn.feature_extraction.text import CountVectorizer"
   ]
  },
  {
   "cell_type": "code",
   "execution_count": 17,
   "metadata": {
    "collapsed": true
   },
   "outputs": [],
   "source": [
    "vectorizer = CountVectorizer(lowercase=True,\n",
    "                             stop_words='english',\n",
    "                             max_df=1.0,\n",
    "                             min_df=1,\n",
    "                             max_features=None, \n",
    "                             binary=True)"
   ]
  },
  {
   "cell_type": "code",
   "execution_count": 18,
   "metadata": {
    "collapsed": true
   },
   "outputs": [],
   "source": [
    "x1 = vectorizer.fit_transform(train_vecs1).toarray()\n",
    "x2 = vectorizer.fit_transform(train_vecs2).toarray()\n",
    "z1 = vectorizer.fit_transform(train_vecs1).toarray()\n",
    "z2 = vectorizer.fit_transform(train_vecs2).toarray()"
   ]
  },
  {
   "cell_type": "code",
   "execution_count": 20,
   "metadata": {},
   "outputs": [],
   "source": [
    "with open('./small_data/train_sentence2_vecs.npy', 'w') as f:\n",
    "    np.save(f, x1)"
   ]
  },
  {
   "cell_type": "code",
   "execution_count": 21,
   "metadata": {
    "collapsed": true
   },
   "outputs": [],
   "source": [
    "with open('./small_data/train_sentence1_vecs.npy', 'w') as f:\n",
    "    np.save(f, x2)"
   ]
  },
  {
   "cell_type": "code",
   "execution_count": null,
   "metadata": {
    "collapsed": true
   },
   "outputs": [],
   "source": [
    "with open('./small_data/test_sentence1_vecs.npy', 'w') as f:\n",
    "    np.save(f, z1)\n",
    "    \n",
    "with open('./small_data/test_sentence2_vecs.npy', 'w') as f:\n",
    "    np.save(f, z2)"
   ]
  },
  {
   "cell_type": "code",
   "execution_count": 60,
   "metadata": {
    "collapsed": true
   },
   "outputs": [],
   "source": [
    "with open('./small_data/train_labels.npy', 'w') as f:\n",
    "    np.save(f, train['paraphrase'].as_matrix())\n",
    "    \n",
    "with open('./small_data/test_labels.npy', 'w') as f:\n",
    "    np.save(f, test['paraphrase'].as_matrix())"
   ]
  }
 ],
 "metadata": {
  "kernelspec": {
   "display_name": "Python 2",
   "language": "python",
   "name": "python2"
  },
  "language_info": {
   "codemirror_mode": {
    "name": "ipython",
    "version": 2
   },
   "file_extension": ".py",
   "mimetype": "text/x-python",
   "name": "python",
   "nbconvert_exporter": "python",
   "pygments_lexer": "ipython2",
   "version": "2.7.13"
  }
 },
 "nbformat": 4,
 "nbformat_minor": 2
}
